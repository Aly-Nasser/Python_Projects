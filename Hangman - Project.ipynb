{
 "cells": [
  {
   "cell_type": "markdown",
   "id": "a3ca5b4d",
   "metadata": {},
   "source": [
    "# Hangman Game"
   ]
  },
  {
   "cell_type": "code",
   "execution_count": 1,
   "id": "63f473e3",
   "metadata": {},
   "outputs": [],
   "source": [
    "logo = ''' \n",
    " _                                             \n",
    "| |                                            \n",
    "| |__   __ _ _ __   __ _ _ __ ___   __ _ _ __  \n",
    "| '_ \\ / _` | '_ \\ / _` | '_ ` _ \\ / _` | '_ \\ \n",
    "| | | | (_| | | | | (_| | | | | | | (_| | | | |\n",
    "|_| |_|\\__,_|_| |_|\\__, |_| |_| |_|\\__,_|_| |_|\n",
    "                    __/ |                      \n",
    "                   |___/    '''"
   ]
  },
  {
   "cell_type": "code",
   "execution_count": null,
   "id": "026d401d",
   "metadata": {},
   "outputs": [],
   "source": [
    "print(logo)"
   ]
  },
  {
   "cell_type": "code",
   "execution_count": 11,
   "id": "66d29195",
   "metadata": {},
   "outputs": [],
   "source": [
    "# Import the random library \n",
    "import random"
   ]
  },
  {
   "cell_type": "code",
   "execution_count": 12,
   "id": "fea4bbc5",
   "metadata": {},
   "outputs": [],
   "source": [
    "stages = ['''\n",
    "  +---+\n",
    "  |   |\n",
    "  O   |\n",
    " /|\\  |\n",
    " / \\  |\n",
    "      |\n",
    "=========\n",
    "''', '''\n",
    "  +---+\n",
    "  |   |\n",
    "  O   |\n",
    " /|\\  |\n",
    " /    |\n",
    "      |\n",
    "=========\n",
    "''', '''\n",
    "  +---+\n",
    "  |   |\n",
    "  O   |\n",
    " /|\\  |\n",
    "      |\n",
    "      |\n",
    "=========\n",
    "''', '''\n",
    "  +---+\n",
    "  |   |\n",
    "  O   |\n",
    " /|   |\n",
    "      |\n",
    "      |\n",
    "=========''', '''\n",
    "  +---+\n",
    "  |   |\n",
    "  O   |\n",
    "  |   |\n",
    "      |\n",
    "      |\n",
    "=========\n",
    "''', '''\n",
    "  +---+\n",
    "  |   |\n",
    "  O   |\n",
    "      |\n",
    "      |\n",
    "      |\n",
    "=========\n",
    "''', '''\n",
    "  +---+\n",
    "  |   |\n",
    "      |\n",
    "      |\n",
    "      |\n",
    "      |\n",
    "=========\n",
    "''']"
   ]
  },
  {
   "cell_type": "code",
   "execution_count": null,
   "id": "d28f7491",
   "metadata": {},
   "outputs": [
    {
     "name": "stdout",
     "output_type": "stream",
     "text": [
      "['_', '_', '_', '_', '_', '_']\n"
     ]
    }
   ],
   "source": [
    "#create word list to chose from\n",
    "word_list = ['kangaroo','cat','elephant','sun','moon','dinosaur','carot','cucumber','apple','orange','street','laptop','house']\n",
    "## chose a random word from this list, and assign it to a variable called chosen_word\n",
    "chosen_word = random.choice(word_list).lower()\n",
    "\n",
    "\n",
    "#create a variable and assign the length of the chosen word inside the range\n",
    "word_length = range(len(chosen_word))\n",
    "\n",
    "#insert the \"_\" into the list for each latter in chosen word\n",
    "blanks = []\n",
    "for _ in word_length:\n",
    "    blanks += \"_\"\n",
    "print(blanks)\n",
    "# create a test for while loop\n",
    "test_the_loop = True\n",
    "\n",
    "# create a vriable for number of lives = 6\n",
    "lives = 6\n",
    "\n",
    "while test_the_loop:\n",
    "    #accept the user in put \n",
    "    guess = input(\"Guess a latter: \").lower()\n",
    "    \n",
    "    # loop through the posations for each letter\n",
    "    for position in word_length:\n",
    "        #create a variable for the chosen word\n",
    "        letter = chosen_word[position]\n",
    "        #check if the letter is the same as chossen word, and add it in its position\n",
    "        if letter == guess:\n",
    "            blanks[position] = letter\n",
    "    \n",
    "    # reduce the number of lives by each time you guess the letter wrongly\n",
    "    if guess not in chosen_word:\n",
    "        lives -= 1\n",
    "        print(f\"Your guessed letter is not correct, {guess} letter not in chosen word.\")\n",
    "        \n",
    "       #check if the number of lives is zero to break the loop, embedded in the first condition\n",
    "        if lives == 0:\n",
    "            print(\"You lose\")\n",
    "            break  \n",
    "    \n",
    "    #print the statge and its position, by its number of lives\n",
    "    print(stages[lives])\n",
    "    #Join all positions in on line\n",
    "    print(f\"{' '.join(blanks)}\")\n",
    "    \n",
    "    #check if there is still \"_\" in the \n",
    "    if \"_\" not in blanks:\n",
    "        test_the_loop = False\n",
    "        print(\"You Win!\") "
   ]
  },
  {
   "cell_type": "code",
   "execution_count": null,
   "id": "f90490f0",
   "metadata": {},
   "outputs": [],
   "source": []
  }
 ],
 "metadata": {
  "kernelspec": {
   "display_name": "Python 3 (ipykernel)",
   "language": "python",
   "name": "python3"
  },
  "language_info": {
   "codemirror_mode": {
    "name": "ipython",
    "version": 3
   },
   "file_extension": ".py",
   "mimetype": "text/x-python",
   "name": "python",
   "nbconvert_exporter": "python",
   "pygments_lexer": "ipython3",
   "version": "3.9.7"
  }
 },
 "nbformat": 4,
 "nbformat_minor": 5
}
